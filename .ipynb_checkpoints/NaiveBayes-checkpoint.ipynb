{
 "cells": [
  {
   "cell_type": "code",
   "execution_count": 2,
   "metadata": {},
   "outputs": [],
   "source": [
    "import pandas as pd\n",
    "import numpy as np"
   ]
  },
  {
   "cell_type": "code",
   "execution_count": 338,
   "metadata": {},
   "outputs": [],
   "source": [
    "np.set_printoptions(suppress=False)"
   ]
  },
  {
   "cell_type": "code",
   "execution_count": 346,
   "metadata": {},
   "outputs": [
    {
     "data": {
      "text/html": [
       "<div>\n",
       "<style scoped>\n",
       "    .dataframe tbody tr th:only-of-type {\n",
       "        vertical-align: middle;\n",
       "    }\n",
       "\n",
       "    .dataframe tbody tr th {\n",
       "        vertical-align: top;\n",
       "    }\n",
       "\n",
       "    .dataframe thead th {\n",
       "        text-align: right;\n",
       "    }\n",
       "</style>\n",
       "<table border=\"1\" class=\"dataframe\">\n",
       "  <thead>\n",
       "    <tr style=\"text-align: right;\">\n",
       "      <th></th>\n",
       "      <th>0</th>\n",
       "      <th>1</th>\n",
       "      <th>2</th>\n",
       "      <th>3</th>\n",
       "      <th>4</th>\n",
       "      <th>5</th>\n",
       "      <th>6</th>\n",
       "      <th>7</th>\n",
       "      <th>8</th>\n",
       "      <th>9</th>\n",
       "      <th>10</th>\n",
       "      <th>11</th>\n",
       "      <th>12</th>\n",
       "      <th>13</th>\n",
       "    </tr>\n",
       "  </thead>\n",
       "  <tbody>\n",
       "    <tr>\n",
       "      <th>1</th>\n",
       "      <td>1</td>\n",
       "      <td>14.23</td>\n",
       "      <td>1.71</td>\n",
       "      <td>2.43</td>\n",
       "      <td>15.6</td>\n",
       "      <td>127</td>\n",
       "      <td>2.8</td>\n",
       "      <td>3.06</td>\n",
       "      <td>.28</td>\n",
       "      <td>2.29</td>\n",
       "      <td>5.64</td>\n",
       "      <td>1.04</td>\n",
       "      <td>3.92</td>\n",
       "      <td>1065</td>\n",
       "    </tr>\n",
       "    <tr>\n",
       "      <th>2</th>\n",
       "      <td>1</td>\n",
       "      <td>13.2</td>\n",
       "      <td>1.78</td>\n",
       "      <td>2.14</td>\n",
       "      <td>11.2</td>\n",
       "      <td>100</td>\n",
       "      <td>2.65</td>\n",
       "      <td>2.76</td>\n",
       "      <td>.26</td>\n",
       "      <td>1.28</td>\n",
       "      <td>4.38</td>\n",
       "      <td>1.05</td>\n",
       "      <td>3.4</td>\n",
       "      <td>1050</td>\n",
       "    </tr>\n",
       "    <tr>\n",
       "      <th>3</th>\n",
       "      <td>1</td>\n",
       "      <td>13.16</td>\n",
       "      <td>2.36</td>\n",
       "      <td>2.67</td>\n",
       "      <td>18.6</td>\n",
       "      <td>101</td>\n",
       "      <td>2.8</td>\n",
       "      <td>3.24</td>\n",
       "      <td>.3</td>\n",
       "      <td>2.81</td>\n",
       "      <td>5.68</td>\n",
       "      <td>1.03</td>\n",
       "      <td>3.17</td>\n",
       "      <td>1185</td>\n",
       "    </tr>\n",
       "    <tr>\n",
       "      <th>4</th>\n",
       "      <td>1</td>\n",
       "      <td>14.37</td>\n",
       "      <td>1.95</td>\n",
       "      <td>2.5</td>\n",
       "      <td>16.8</td>\n",
       "      <td>113</td>\n",
       "      <td>3.85</td>\n",
       "      <td>3.49</td>\n",
       "      <td>.24</td>\n",
       "      <td>2.18</td>\n",
       "      <td>7.8</td>\n",
       "      <td>.86</td>\n",
       "      <td>3.45</td>\n",
       "      <td>1480</td>\n",
       "    </tr>\n",
       "    <tr>\n",
       "      <th>5</th>\n",
       "      <td>1</td>\n",
       "      <td>13.24</td>\n",
       "      <td>2.59</td>\n",
       "      <td>2.87</td>\n",
       "      <td>21</td>\n",
       "      <td>118</td>\n",
       "      <td>2.8</td>\n",
       "      <td>2.69</td>\n",
       "      <td>.39</td>\n",
       "      <td>1.82</td>\n",
       "      <td>4.32</td>\n",
       "      <td>1.04</td>\n",
       "      <td>2.93</td>\n",
       "      <td>735</td>\n",
       "    </tr>\n",
       "  </tbody>\n",
       "</table>\n",
       "</div>"
      ],
      "text/plain": [
       "  0      1     2     3     4    5     6     7    8     9     10    11    12  \\\n",
       "1  1  14.23  1.71  2.43  15.6  127   2.8  3.06  .28  2.29  5.64  1.04  3.92   \n",
       "2  1   13.2  1.78  2.14  11.2  100  2.65  2.76  .26  1.28  4.38  1.05   3.4   \n",
       "3  1  13.16  2.36  2.67  18.6  101   2.8  3.24   .3  2.81  5.68  1.03  3.17   \n",
       "4  1  14.37  1.95   2.5  16.8  113  3.85  3.49  .24  2.18   7.8   .86  3.45   \n",
       "5  1  13.24  2.59  2.87    21  118   2.8  2.69  .39  1.82  4.32  1.04  2.93   \n",
       "\n",
       "     13  \n",
       "1  1065  \n",
       "2  1050  \n",
       "3  1185  \n",
       "4  1480  \n",
       "5   735  "
      ]
     },
     "execution_count": 346,
     "metadata": {},
     "output_type": "execute_result"
    }
   ],
   "source": [
    "data = pd.read_csv(\"datasets/wine.csv\", header=None)[1:]\n",
    "data.head()"
   ]
  },
  {
   "cell_type": "code",
   "execution_count": 340,
   "metadata": {},
   "outputs": [
    {
     "name": "stdout",
     "output_type": "stream",
     "text": [
      "1\n",
      "[1.423e+01 1.710e+00 2.430e+00 1.560e+01 1.270e+02 2.800e+00 3.060e+00\n",
      " 2.800e-01 2.290e+00 5.640e+00 1.040e+00 3.920e+00 1.065e+03]\n"
     ]
    }
   ],
   "source": [
    "# data = data.sample(frac=1)\n",
    "Y = data[\"class\"].values\n",
    "X = data.iloc[:, 1:].values\n",
    "print(Y[0])\n",
    "print(X[0])"
   ]
  },
  {
   "cell_type": "code",
   "execution_count": 319,
   "metadata": {},
   "outputs": [],
   "source": [
    "def naive_bayes(X_train, Y_train, X):\n",
    "    p_classes = np.bincount(Y) / len(Y)\n",
    "    print(p_classes)\n",
    "    for c in p_classes:\n",
    "        print(np.bincount(X_train[Y_train == c]) / X_train[Y_train == c].shape[0])\n",
    "            \n",
    "# naive_bayes(X, Y, X)"
   ]
  },
  {
   "cell_type": "code",
   "execution_count": 320,
   "metadata": {},
   "outputs": [
    {
     "name": "stdout",
     "output_type": "stream",
     "text": [
      "[[ 4  5  6]\n",
      " [ 4  5  6]\n",
      " [10 11 12]\n",
      " [ 4  5  6]\n",
      " [ 7  8  9]]\n"
     ]
    }
   ],
   "source": [
    "P = np.array([[1,2,3], [4,5,6], [7,8,9], [10, 11, 12]])\n",
    "v = np.array([1,1,3,1,2])\n",
    "# print(P)\n",
    "# print(v)\n",
    "print(P[v])"
   ]
  },
  {
   "cell_type": "code",
   "execution_count": 321,
   "metadata": {},
   "outputs": [
    {
     "name": "stdout",
     "output_type": "stream",
     "text": [
      "11.03 14.83\n"
     ]
    }
   ],
   "source": [
    "column = X[:, 0]\n",
    "max_val = np.max(column)\n",
    "min_val = np.min(column)\n",
    "print(min_val, max_val)\n",
    "\n",
    "nr_of_bins = 10\n",
    "bound = 0.05  # percent of each bound on the left (min_val) and right (max_val)\n",
    "val_diff = max_val - min_val"
   ]
  },
  {
   "cell_type": "code",
   "execution_count": 322,
   "metadata": {},
   "outputs": [
    {
     "name": "stdout",
     "output_type": "stream",
     "text": [
      "[ 0  1 10 23 33 32 31 29 17  2]\n"
     ]
    }
   ],
   "source": [
    "bins_np = np.linspace(min_val - (bound*val_diff), max_val + (bound*val_diff), nr_of_bins)\n",
    "# print(bins_np)\n",
    "res_np = np.digitize(column, bins_np)\n",
    "# print(res_np)\n",
    "\n",
    "bincount_np = np.bincount(res_np)\n",
    "print(bincount_np)"
   ]
  },
  {
   "cell_type": "code",
   "execution_count": 323,
   "metadata": {},
   "outputs": [
    {
     "name": "stdout",
     "output_type": "stream",
     "text": [
      "[ 0  1 10 19 31 21 27 25 25 17  2]\n"
     ]
    }
   ],
   "source": [
    "_, bins = pd.cut(column, 10, retbins=True)\n",
    "bins = [bins[0] - (bound*val_diff)] + list(bins[1:-1]) + [bins[-1] + (bound*val_diff)]\n",
    "# print(bins)\n",
    "\n",
    "res_pd = np.digitize(column, bins)\n",
    "\n",
    "bincount_pd = np.bincount(res_pd)\n",
    "print(bincount_pd)"
   ]
  },
  {
   "cell_type": "code",
   "execution_count": 324,
   "metadata": {},
   "outputs": [
    {
     "name": "stdout",
     "output_type": "stream",
     "text": [
      "[ 0 18 16 20 17 16 20 17 18 17 19]\n"
     ]
    }
   ],
   "source": [
    "_, bins_q = pd.qcut(column, 10, retbins=True)\n",
    "bins_q = [bins_q[0] - (bound*val_diff)] + list(bins_q[1:-1]) + [bins_q[-1] + (bound*val_diff)]\n",
    "# print(bins_q)\n",
    "\n",
    "res_pd = np.digitize(column, bins_q)\n",
    "\n",
    "bincount_pd = np.bincount(res_pd)\n",
    "print(bincount_pd)"
   ]
  },
  {
   "cell_type": "code",
   "execution_count": 325,
   "metadata": {
    "scrolled": false
   },
   "outputs": [],
   "source": [
    "attributes = list(data)[1:] \n",
    "classes = np.unique(Y)\n",
    "classes_len = np.bincount(Y)[1:]\n",
    "classes_probs = classes_len / len(Y)\n",
    "\n",
    "atributes_probs, atributes_bins = [], []\n",
    "\n",
    "# print(data[['alcohol']].values)\n",
    "\n",
    "for i, atr in enumerate(attributes):\n",
    "#     print(f'First value in column {atr} is {data[atr].values[0]}')\n",
    "\n",
    "    # get values from whole column\n",
    "    atr_values = np.array([a for l in data[[atr]].values for a in l])\n",
    "    \n",
    "    # digitize\n",
    "    _, bins = pd.cut(atr_values, 10, retbins=True)\n",
    "    atr_digitized = np.digitize(atr_values, bins)\n",
    "    atr_bincount = np.bincount(atr_digitized)[1:]\n",
    "    \n",
    "#     print(atr_bincount)\n",
    "#     print(atr_values)\n",
    "    \n",
    "    atributes_bins.append(bins)\n",
    "    atr_probs = []\n",
    "    \n",
    "    for j, c in enumerate(classes):\n",
    "#         print(f'Attribute {atr} in class {c}')\n",
    "\n",
    "        atr_in_class = atr_values[Y == c]\n",
    "#         print(atr_in_class)\n",
    "        atr_in_class_bincount = np.bincount(np.digitize(atr_in_class, bins))\n",
    "#         print(atr_in_class_bincount)\n",
    "        atr_in_class_prob = atr_in_class_bincount / classes_len[j]\n",
    "#         print(atr_in_class_prob)\n",
    "        \n",
    "        atr_probs.append(atr_in_class_prob)\n",
    "        \n",
    "    atributes_probs.append(atr_probs)    \n",
    "    \n",
    "# np.bincount(X_train[Y_train == c]) / X_train[Y_train == c].shape[0]\n",
    "\n",
    "\n",
    "# print(atributes_probs)\n",
    "# print(atributes_probs[0])\n",
    "    \n"
   ]
  },
  {
   "cell_type": "code",
   "execution_count": 326,
   "metadata": {},
   "outputs": [],
   "source": [
    "def digitize_column(column, bins=[]):\n",
    "    if len(bins) == 0:\n",
    "        _, bins = pd.cut(column, 10, retbins=True)\n",
    "    atr_digitized = np.digitize(column, bins)\n",
    "    atr_bincount = np.bincount(atr_digitized)\n",
    "    return atr_digitized, atr_bincount, bins\n",
    "\n",
    "def count_conditional_probabilities(column, Y, c, bins):\n",
    "    atr_in_class = column[Y == c]\n",
    "    atr_in_class_bincount = np.bincount(np.digitize(atr_in_class, bins), minlength=len(bins)+1)\n",
    "    atr_in_class_prob = atr_in_class_bincount / np.bincount(Y)[c]\n",
    "    return atr_in_class_prob"
   ]
  },
  {
   "cell_type": "code",
   "execution_count": 327,
   "metadata": {},
   "outputs": [],
   "source": [
    "def bayes(data, Y, attributes, classes):\n",
    "    atributes_probs, atributes_bins = [], []\n",
    "\n",
    "    for i, atr in enumerate(attributes):\n",
    "        atr_values = np.array([a for l in data[[atr]].values for a in l])\n",
    "        atr_digitized, atr_bincount, bins = digitize_column(atr_values)\n",
    "\n",
    "        atributes_bins.append(bins)       \n",
    "        tmp = np.hstack((count_conditional_probabilities(atr_values, Y, c, bins).reshape(-1, 1) for c in classes))\n",
    "        atributes_probs.append(tmp)\n",
    "        \n",
    "    return atributes_probs, atributes_bins"
   ]
  },
  {
   "cell_type": "code",
   "execution_count": 328,
   "metadata": {},
   "outputs": [],
   "source": [
    "attributes = list(data)[1:] \n",
    "classes = np.unique(Y)\n",
    "\n",
    "atributes_probs, atributes_bins = bayes(data, Y, attributes, classes)"
   ]
  },
  {
   "cell_type": "code",
   "execution_count": 329,
   "metadata": {},
   "outputs": [
    {
     "name": "stdout",
     "output_type": "stream",
     "text": [
      "[2 2 3 1 1 3 1]\n",
      "     class  alcohol  malic_acid   ash  alcalinity_of_ash  magnesium  \\\n",
      "78       2    12.33        0.99  1.95               14.8        136   \n",
      "89       2    12.08        1.33  2.30               23.6         70   \n",
      "174      3    13.40        3.91  2.48               23.0        102   \n",
      "37       1    13.05        1.65  2.55               18.0         98   \n",
      "29       1    14.02        1.68  2.21               16.0         96   \n",
      "132      3    12.81        2.31  2.40               24.0         98   \n",
      "30       1    13.73        1.50  2.70               22.5        101   \n",
      "\n",
      "     total_phenols  flavanodis  nonflavanoid_phehols  proanthocyanins  \\\n",
      "78            1.90        1.85                  0.35             2.76   \n",
      "89            2.20        1.59                  0.42             1.38   \n",
      "174           1.80        0.75                  0.43             1.41   \n",
      "37            2.45        2.43                  0.29             1.44   \n",
      "29            2.65        2.33                  0.26             1.98   \n",
      "132           1.15        1.09                  0.27             0.83   \n",
      "30            3.00        3.25                  0.29             2.38   \n",
      "\n",
      "     color_intensity   hue  OD_diluted_wines  proline  \n",
      "78              3.40  1.06              2.31      750  \n",
      "89              1.74  1.07              3.21      625  \n",
      "174             7.30  0.70              1.56      750  \n",
      "37              4.25  1.12              2.51     1105  \n",
      "29              4.70  1.04              3.59     1035  \n",
      "132             5.70  0.66              1.36      560  \n",
      "30              5.70  1.19              2.71     1285  \n"
     ]
    }
   ],
   "source": [
    "X_test = X[:7]\n",
    "# print(X_test)\n",
    "probs_multiplied = np.ones((X_test.shape[0], len(classes)))\n",
    "for i, atr in enumerate(attributes):\n",
    "    column = X_test[:, i]\n",
    "    atr_digitized, atr_bincount, bins = digitize_column(column, atributes_bins[i])\n",
    "    probs_multiplied *= atributes_probs[i][atr_digitized]\n",
    "probs_multiplied *= classes_probs\n",
    "\n",
    "\n",
    "predicted_classes = classes[probs_multiplied.argmax(axis=1)]\n",
    "print(predicted_classes)\n",
    "print(data[:7])"
   ]
  },
  {
   "cell_type": "code",
   "execution_count": 330,
   "metadata": {},
   "outputs": [
    {
     "name": "stdout",
     "output_type": "stream",
     "text": [
      "[ 0  0  0  0  0  0  0  0  0 11  3  0  8  6]\n"
     ]
    }
   ],
   "source": [
    "atributes_bins[0]\n",
    "\n",
    "atr_digitized = np.digitize([1,2,3,6,9,2,7,5,10,34,12,11,14,13], atributes_bins[0])\n",
    "print(atr_digitized)"
   ]
  },
  {
   "cell_type": "code",
   "execution_count": 331,
   "metadata": {},
   "outputs": [
    {
     "data": {
      "text/plain": [
       "array([[1.233e+01, 9.900e-01, 1.950e+00, ..., 1.060e+00, 2.310e+00,\n",
       "        7.500e+02],\n",
       "       [1.208e+01, 1.330e+00, 2.300e+00, ..., 1.070e+00, 3.210e+00,\n",
       "        6.250e+02],\n",
       "       [1.340e+01, 3.910e+00, 2.480e+00, ..., 7.000e-01, 1.560e+00,\n",
       "        7.500e+02],\n",
       "       ...,\n",
       "       [1.367e+01, 1.250e+00, 1.920e+00, ..., 1.230e+00, 2.460e+00,\n",
       "        6.300e+02],\n",
       "       [1.375e+01, 1.730e+00, 2.410e+00, ..., 1.150e+00, 2.900e+00,\n",
       "        1.320e+03],\n",
       "       [1.179e+01, 2.130e+00, 2.780e+00, ..., 9.700e-01, 2.440e+00,\n",
       "        4.660e+02]])"
      ]
     },
     "execution_count": 331,
     "metadata": {},
     "output_type": "execute_result"
    }
   ],
   "source": [
    "X"
   ]
  },
  {
   "cell_type": "code",
   "execution_count": 341,
   "metadata": {},
   "outputs": [
    {
     "data": {
      "text/html": [
       "<div>\n",
       "<style scoped>\n",
       "    .dataframe tbody tr th:only-of-type {\n",
       "        vertical-align: middle;\n",
       "    }\n",
       "\n",
       "    .dataframe tbody tr th {\n",
       "        vertical-align: top;\n",
       "    }\n",
       "\n",
       "    .dataframe thead th {\n",
       "        text-align: right;\n",
       "    }\n",
       "</style>\n",
       "<table border=\"1\" class=\"dataframe\">\n",
       "  <thead>\n",
       "    <tr style=\"text-align: right;\">\n",
       "      <th></th>\n",
       "      <th>class</th>\n",
       "      <th>alcohol</th>\n",
       "      <th>malic_acid</th>\n",
       "      <th>ash</th>\n",
       "      <th>alcalinity_of_ash</th>\n",
       "      <th>magnesium</th>\n",
       "      <th>total_phenols</th>\n",
       "      <th>flavanodis</th>\n",
       "      <th>nonflavanoid_phehols</th>\n",
       "      <th>proanthocyanins</th>\n",
       "      <th>color_intensity</th>\n",
       "      <th>hue</th>\n",
       "      <th>OD_diluted_wines</th>\n",
       "      <th>proline</th>\n",
       "    </tr>\n",
       "  </thead>\n",
       "  <tbody>\n",
       "    <tr>\n",
       "      <th>0</th>\n",
       "      <td>1</td>\n",
       "      <td>14.23</td>\n",
       "      <td>1.71</td>\n",
       "      <td>2.43</td>\n",
       "      <td>15.6</td>\n",
       "      <td>127</td>\n",
       "      <td>2.80</td>\n",
       "      <td>3.06</td>\n",
       "      <td>0.28</td>\n",
       "      <td>2.29</td>\n",
       "      <td>5.64</td>\n",
       "      <td>1.04</td>\n",
       "      <td>3.92</td>\n",
       "      <td>1065</td>\n",
       "    </tr>\n",
       "    <tr>\n",
       "      <th>1</th>\n",
       "      <td>1</td>\n",
       "      <td>13.20</td>\n",
       "      <td>1.78</td>\n",
       "      <td>2.14</td>\n",
       "      <td>11.2</td>\n",
       "      <td>100</td>\n",
       "      <td>2.65</td>\n",
       "      <td>2.76</td>\n",
       "      <td>0.26</td>\n",
       "      <td>1.28</td>\n",
       "      <td>4.38</td>\n",
       "      <td>1.05</td>\n",
       "      <td>3.40</td>\n",
       "      <td>1050</td>\n",
       "    </tr>\n",
       "    <tr>\n",
       "      <th>2</th>\n",
       "      <td>1</td>\n",
       "      <td>13.16</td>\n",
       "      <td>2.36</td>\n",
       "      <td>2.67</td>\n",
       "      <td>18.6</td>\n",
       "      <td>101</td>\n",
       "      <td>2.80</td>\n",
       "      <td>3.24</td>\n",
       "      <td>0.30</td>\n",
       "      <td>2.81</td>\n",
       "      <td>5.68</td>\n",
       "      <td>1.03</td>\n",
       "      <td>3.17</td>\n",
       "      <td>1185</td>\n",
       "    </tr>\n",
       "    <tr>\n",
       "      <th>3</th>\n",
       "      <td>1</td>\n",
       "      <td>14.37</td>\n",
       "      <td>1.95</td>\n",
       "      <td>2.50</td>\n",
       "      <td>16.8</td>\n",
       "      <td>113</td>\n",
       "      <td>3.85</td>\n",
       "      <td>3.49</td>\n",
       "      <td>0.24</td>\n",
       "      <td>2.18</td>\n",
       "      <td>7.80</td>\n",
       "      <td>0.86</td>\n",
       "      <td>3.45</td>\n",
       "      <td>1480</td>\n",
       "    </tr>\n",
       "    <tr>\n",
       "      <th>4</th>\n",
       "      <td>1</td>\n",
       "      <td>13.24</td>\n",
       "      <td>2.59</td>\n",
       "      <td>2.87</td>\n",
       "      <td>21.0</td>\n",
       "      <td>118</td>\n",
       "      <td>2.80</td>\n",
       "      <td>2.69</td>\n",
       "      <td>0.39</td>\n",
       "      <td>1.82</td>\n",
       "      <td>4.32</td>\n",
       "      <td>1.04</td>\n",
       "      <td>2.93</td>\n",
       "      <td>735</td>\n",
       "    </tr>\n",
       "  </tbody>\n",
       "</table>\n",
       "</div>"
      ],
      "text/plain": [
       "   class  alcohol  malic_acid   ash  alcalinity_of_ash  magnesium  \\\n",
       "0      1    14.23        1.71  2.43               15.6        127   \n",
       "1      1    13.20        1.78  2.14               11.2        100   \n",
       "2      1    13.16        2.36  2.67               18.6        101   \n",
       "3      1    14.37        1.95  2.50               16.8        113   \n",
       "4      1    13.24        2.59  2.87               21.0        118   \n",
       "\n",
       "   total_phenols  flavanodis  nonflavanoid_phehols  proanthocyanins  \\\n",
       "0           2.80        3.06                  0.28             2.29   \n",
       "1           2.65        2.76                  0.26             1.28   \n",
       "2           2.80        3.24                  0.30             2.81   \n",
       "3           3.85        3.49                  0.24             2.18   \n",
       "4           2.80        2.69                  0.39             1.82   \n",
       "\n",
       "   color_intensity   hue  OD_diluted_wines  proline  \n",
       "0             5.64  1.04              3.92     1065  \n",
       "1             4.38  1.05              3.40     1050  \n",
       "2             5.68  1.03              3.17     1185  \n",
       "3             7.80  0.86              3.45     1480  \n",
       "4             4.32  1.04              2.93      735  "
      ]
     },
     "execution_count": 341,
     "metadata": {},
     "output_type": "execute_result"
    }
   ],
   "source": [
    "data.head()"
   ]
  },
  {
   "cell_type": "code",
   "execution_count": 423,
   "metadata": {},
   "outputs": [
    {
     "name": "stdout",
     "output_type": "stream",
     "text": [
      "(178, 13)\n"
     ]
    }
   ],
   "source": [
    "Y = data.loc[:, 0].values.astype(int)\n",
    "X = data.loc[:, 1:].values.astype(float)\n",
    "print(X.shape)\n",
    "# print(X[0])\n",
    "# print(np.hstack((X[:, :0], X[:, 3:5])))"
   ]
  },
  {
   "cell_type": "code",
   "execution_count": 454,
   "metadata": {},
   "outputs": [],
   "source": [
    "def bayes2(X, Y):\n",
    "    classes = np.unique(Y)\n",
    "    attributes_probs, attributes_bins = [], []\n",
    "\n",
    "    for i in range(X.shape[1]):\n",
    "        column = X[:, i]\n",
    "        atr_digitized, atr_bincount, bins = digitize_column(column)\n",
    "\n",
    "        attributes_bins.append(bins)       \n",
    "        atr_probs = np.hstack((count_conditional_probabilities(column, Y, c, bins).reshape(-1, 1) for c in classes))\n",
    "        attributes_probs.append(atr_probs)\n",
    "        \n",
    "    return attributes_probs, attributes_bins"
   ]
  },
  {
   "cell_type": "code",
   "execution_count": 450,
   "metadata": {},
   "outputs": [],
   "source": [
    "def digitize_column2(column, bins=[]):\n",
    "    if len(bins) == 0:\n",
    "        _, bins = pd.cut(column, 10, retbins=True)\n",
    "    atr_digitized = np.digitize(column, bins)\n",
    "    atr_bincount = np.bincount(atr_digitized)\n",
    "    return atr_digitized, atr_bincount, bins\n",
    "\n",
    "def count_conditional_probabilities2(column, Y, c, bins):\n",
    "    atr_in_class = column[Y == c]\n",
    "    atr_in_class_bincount = np.bincount(np.digitize(atr_in_class, bins), minlength=len(bins)+1)\n",
    "    atr_in_class_prob = atr_in_class_bincount / np.bincount(Y)[c]\n",
    "    return atr_in_class_prob"
   ]
  },
  {
   "cell_type": "code",
   "execution_count": 457,
   "metadata": {},
   "outputs": [
    {
     "name": "stdout",
     "output_type": "stream",
     "text": [
      "[1 2 3]\n"
     ]
    }
   ],
   "source": [
    "classes = np.unique(Y)\n",
    "print(classes)\n",
    "\n",
    "atributes_probs, atributes_bins = bayes2(X, Y)"
   ]
  },
  {
   "cell_type": "code",
   "execution_count": 460,
   "metadata": {},
   "outputs": [
    {
     "name": "stdout",
     "output_type": "stream",
     "text": [
      "[1 1 1 1 1 1 1]\n",
      "  0      1     2     3     4    5     6     7    8     9     10    11    12  \\\n",
      "1  1  14.23  1.71  2.43  15.6  127   2.8  3.06  .28  2.29  5.64  1.04  3.92   \n",
      "2  1   13.2  1.78  2.14  11.2  100  2.65  2.76  .26  1.28  4.38  1.05   3.4   \n",
      "3  1  13.16  2.36  2.67  18.6  101   2.8  3.24   .3  2.81  5.68  1.03  3.17   \n",
      "4  1  14.37  1.95   2.5  16.8  113  3.85  3.49  .24  2.18   7.8   .86  3.45   \n",
      "5  1  13.24  2.59  2.87    21  118   2.8  2.69  .39  1.82  4.32  1.04  2.93   \n",
      "6  1   14.2  1.76  2.45  15.2  112  3.27  3.39  .34  1.97  6.75  1.05  2.85   \n",
      "7  1  14.39  1.87  2.45  14.6   96   2.5  2.52   .3  1.98  5.25  1.02  3.58   \n",
      "\n",
      "     13  \n",
      "1  1065  \n",
      "2  1050  \n",
      "3  1185  \n",
      "4  1480  \n",
      "5   735  \n",
      "6  1450  \n",
      "7  1290  \n"
     ]
    }
   ],
   "source": [
    "def get_X_test_classes(X_test, attributes_probs, atributes_bins, classes, classes_probs):\n",
    "    probs_multiplied = np.ones((X_test.shape[0], len(classes)))\n",
    "    \n",
    "    for i in range(X_test.shape[1]):\n",
    "        column = X_test[:, i]\n",
    "        atr_digitized, atr_bincount, bins = digitize_column(column, atributes_bins[i])\n",
    "        probs_multiplied *= attributes_probs[i][atr_digitized]\n",
    "    probs_multiplied *= classes_probs\n",
    "    return \n",
    "\n",
    "    \n",
    "\n",
    "\n",
    "X_test = X[:7]\n",
    "# # print(X_test)\n",
    "# probs_multiplied = np.ones((X_test.shape[0], len(classes)))\n",
    "# for i, atr in enumerate(attributes):\n",
    "#     column = X_test[:, i]\n",
    "#     atr_digitized, atr_bincount, bins = digitize_column(column, atributes_bins[i])\n",
    "#     probs_multiplied *= atributes_probs[i][atr_digitized]\n",
    "# probs_multiplied *= classes_probs\n",
    "\n",
    "# predicted_classes = classes[probs_multiplied.argmax(axis=1)]\n",
    "# print(predicted_classes)\n",
    "# print(data[:7])"
   ]
  },
  {
   "cell_type": "code",
   "execution_count": null,
   "metadata": {},
   "outputs": [],
   "source": []
  }
 ],
 "metadata": {
  "kernelspec": {
   "display_name": "Python 3",
   "language": "python",
   "name": "python3"
  },
  "language_info": {
   "codemirror_mode": {
    "name": "ipython",
    "version": 3
   },
   "file_extension": ".py",
   "mimetype": "text/x-python",
   "name": "python",
   "nbconvert_exporter": "python",
   "pygments_lexer": "ipython3",
   "version": "3.7.1"
  }
 },
 "nbformat": 4,
 "nbformat_minor": 2
}
